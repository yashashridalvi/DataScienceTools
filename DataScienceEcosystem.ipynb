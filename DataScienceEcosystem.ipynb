{
 "cells": [
  {
   "cell_type": "markdown",
   "id": "797bcbeb",
   "metadata": {},
   "source": [
    "# Data Science Tools and Ecosystem"
   ]
  },
  {
   "cell_type": "markdown",
   "id": "ce8b4696",
   "metadata": {},
   "source": [
    "## Introduction:-\n",
    "In this notebook, Data Science Tools and Ecosystem are summarized.\n",
    "### Data Science Tools and Ecosystem\n",
    "This is full of knowledge and practical experiexperience.\n",
    "Which play crucial role in framework designed to analyze and extractinsights from data.\n",
    "\n",
    "Its include lots of programming languages such as:-\n",
    "1. Python\n",
    "2. R \n",
    "\n",
    "It also introduce visualization libraries such as:\n",
    "1. Matplotlib \n",
    "2. seaborn\n",
    "3. plotly\n"
   ]
  },
  {
   "cell_type": "markdown",
   "id": "f7b6c6f5",
   "metadata": {},
   "source": [
    "### Some of the popular languages that Data Scientits use are:-\n",
    "\n",
    "1. Python:- Widely use for its versatility and extensive libraries. Libraries like pandas, Numpy, Scikit-learn anf Tensorflow make python a got to language for data analysis, machine learning and deep learning.\n",
    "\n",
    "2. R:- Particularly favored for statistical analysis and visualization. R provides a rich set of packages for data manipulation and exploration.\n",
    "\n",
    "3. SQL (Structured Query Language): SQL is essential for working with relational databases. Data scientists often use SQL to query databases, perform data manipulation, and extract relevant information for analysis.\n",
    "\n",
    "4. MATLAB: MATLAB is widely used in academia and industry for numerical computing, simulation, and modeling. It's a powerful tool for signal processing, image processing, and other scientific computing tasks.\n",
    "\n",
    "5. Java: Java is used in various data science applications, particularly in big data processing frameworks such as Apache Hadoop and Apache Flink."
   ]
  },
  {
   "cell_type": "markdown",
   "id": "4ec57abd",
   "metadata": {},
   "source": [
    "## Some of the commonly used libraries used by Data Scientists include:\n",
    "\n",
    "1. NumPy: NumPy is a fundamental library for scientific computing in Python. It provides support for large, multi-dimensional arrays and matrices, along with mathematical functions to operate on these arrays.\n",
    "\n",
    "2. Pandas: Pandas is a powerful library for data manipulation and analysis. It provides data structures like DataFrames for efficiently handling and analyzing structured data.\n",
    "\n",
    "3. Matplotlib: Matplotlib is a plotting library that enables the creation of static, animated, and interactive visualizations in Python. It's commonly used for data visualization.\n",
    "\n",
    "4. Seaborn: Seaborn is built on top of Matplotlib and provides a high-level interface for statistical data visualization. It simplifies the creation of complex visualizations and makes them more aesthetically pleasing.\n",
    "\n",
    "5. Scikit-learn: Scikit-learn is a machine learning library that provides simple and efficient tools for data analysis and modeling, including various algorithms for classification, regression, clustering, and more.\n",
    "\n",
    "6. TensorFlow: Developed by Google, TensorFlow is an open-source machine learning framework widely used for building and training deep learning models, especially neural networks.\n",
    "\n",
    "7. PyTorch: PyTorch is another popular deep learning framework that is known for its dynamic computation graph and is widely used in research and industry for building neural network models.\n",
    "\n",
    "8. Keras: Keras is an open-source high-level neural networks API written in Python and capable of running on top of TensorFlow, Theano, or Microsoft Cognitive Toolkit. It provides a convenient and user-friendly interface for building deep learning models.\n",
    "\n",
    "9. SciPy: SciPy is a library used for scientific and technical computing. It builds on NumPy and provides additional functionality for optimization, signal and image processing, linear algebra, and more\n"
   ]
  },
  {
   "cell_type": "markdown",
   "id": "db571120",
   "metadata": {},
   "source": [
    "----\n",
    "|Sr no. | Data Science Tools|\n",
    "|:-----:|:-----------------:|\n",
    "|   1   | Jupyter Notebooks |\n",
    "|   2   | Apache Zeppelin   |\n",
    "|   3   | RStudio           |\n"
   ]
  },
  {
   "cell_type": "markdown",
   "id": "923786b6",
   "metadata": {},
   "source": [
    "### Below are a few examples of evaluating arithmetic expressions in Python:"
   ]
  },
  {
   "cell_type": "code",
   "execution_count": 1,
   "id": "f7bf785c",
   "metadata": {},
   "outputs": [
    {
     "data": {
      "text/plain": [
       "17"
      ]
     },
     "execution_count": 1,
     "metadata": {},
     "output_type": "execute_result"
    }
   ],
   "source": [
    "(3*4)+5 #This a simple arithmetic expression to mutiply then add integers"
   ]
  },
  {
   "cell_type": "code",
   "execution_count": 1,
   "id": "9db9214f",
   "metadata": {},
   "outputs": [
    {
     "name": "stdout",
     "output_type": "stream",
     "text": [
      "3.3333333333333335\n"
     ]
    }
   ],
   "source": [
    "minutes = 200\n",
    "hours = minutes / 60 # This will convert 200 minutes to hours by diving by 60.\n",
    "print(hours)"
   ]
  },
  {
   "cell_type": "markdown",
   "id": "3b2e3474",
   "metadata": {},
   "source": [
    "__Objectives:__\n",
    "\n",
    "* List popular languages for Data Science\n",
    "    * Python\n",
    "    * R\n",
    "    * SQL\n",
    "* List popular libraries for Data Science\n",
    "    * NumPy\n",
    "    * Pandas\n",
    "    * Seaborn\n",
    "    * PyTorch\n",
    "* Development environment open source tools used in Data Science\n",
    "    * Jupyter Notebooks\n",
    "    * RStudio"
   ]
  },
  {
   "cell_type": "markdown",
   "id": "62d1234a",
   "metadata": {},
   "source": [
    "## Author\n",
    "Yashashri Dalvi"
   ]
  },
  {
   "cell_type": "code",
   "execution_count": null,
   "id": "cedd763b",
   "metadata": {},
   "outputs": [],
   "source": []
  }
 ],
 "metadata": {
  "kernelspec": {
   "display_name": "Python 3 (ipykernel)",
   "language": "python",
   "name": "python3"
  },
  "language_info": {
   "codemirror_mode": {
    "name": "ipython",
    "version": 3
   },
   "file_extension": ".py",
   "mimetype": "text/x-python",
   "name": "python",
   "nbconvert_exporter": "python",
   "pygments_lexer": "ipython3",
   "version": "3.10.9"
  }
 },
 "nbformat": 4,
 "nbformat_minor": 5
}
